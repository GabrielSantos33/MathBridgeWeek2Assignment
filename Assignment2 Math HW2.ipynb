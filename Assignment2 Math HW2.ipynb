{
 "cells": [
  {
   "cell_type": "markdown",
   "id": "c50f47d7",
   "metadata": {},
   "source": [
    "# Assignment 2\n",
    "\n",
    "## Gabriel Santos\n",
    "### '2022-21-07'\n",
    "\n",
    "### Math Bridge Week 2 Assignment"
   ]
  },
  {
   "cell_type": "markdown",
   "id": "497a5134",
   "metadata": {},
   "source": [
    "#### Do not use built in programs to do the following.  Write the programs to demonstrate that you understand the math behind them.  Provide all solutions in an .html file. "
   ]
  },
  {
   "cell_type": "markdown",
   "id": "eb849177",
   "metadata": {},
   "source": [
    "### Do not use built in programs to do the following.  Write the programs to demonstrate that you understand the math behind them.  Provide all solutions in an .html file. "
   ]
  },
  {
   "cell_type": "markdown",
   "id": "c7e29a6d",
   "metadata": {},
   "source": [
    "### 1.  Write a Python program to compute the eigenvalues and right eigenvectors of a given square array."
   ]
  },
  {
   "cell_type": "code",
   "execution_count": 1,
   "id": "a86852c4",
   "metadata": {},
   "outputs": [
    {
     "name": "stdout",
     "output_type": "stream",
     "text": [
      "Original matrix:\n",
      "a\n",
      " [[ 3 -2]\n",
      " [ 1  0]]\n",
      "Eigenvalues of the said matrix [2. 1.]\n",
      "Eigenvectors of the said matrix [[0.89442719 0.70710678]\n",
      " [0.4472136  0.70710678]]\n"
     ]
    }
   ],
   "source": [
    "import numpy as np\n",
    "m = np.mat(\"3 -2;1 0\")\n",
    "print(\"Original matrix:\")\n",
    "print(\"a\\n\", m)\n",
    "w, v = np.linalg.eig(m) \n",
    "print( \"Eigenvalues of the said matrix\",w)\n",
    "print( \"Eigenvectors of the said matrix\",v)"
   ]
  },
  {
   "cell_type": "markdown",
   "id": "fd09d618",
   "metadata": {},
   "source": [
    "### 2. Write a Python program to compute the factor of a given array by Singular Value Decomposition"
   ]
  },
  {
   "cell_type": "code",
   "execution_count": 21,
   "id": "e21470e1",
   "metadata": {},
   "outputs": [
    {
     "name": "stdout",
     "output_type": "stream",
     "text": [
      "Original array:\n",
      "[[1. 2. 0. 0. 1.]\n",
      " [1. 2. 1. 1. 3.]\n",
      " [1. 4. 2. 0. 1.]\n",
      " [1. 3. 2. 0. 1.]]\n",
      "\n",
      "Factor of the given array  by Singular Value Decomposition:\n",
      "\n",
      "U= [[-3.0875298e-01 -9.3763992e-02 -9.1558415e-01  2.3997006e-01]\n",
      " [-4.8194408e-01 -8.4113747e-01  2.2036159e-01 -1.0797395e-01]\n",
      " [-6.3137066e-01  4.4360656e-01  7.7081023e-04 -6.3606894e-01]\n",
      " [-5.2323282e-01  2.9480377e-01  3.3637166e-01  7.2537732e-01]] \n",
      "\n",
      "S= [7.2452655 2.302727  1.0616372 0.2765876] \n",
      "\n",
      "V= [[-0.26849264 -0.7834875  -0.38523793 -0.06651849 -0.4015296 ]\n",
      " [-0.08532978  0.3426522   0.27605665 -0.36527884 -0.8158875 ]\n",
      " [-0.33729044 -0.35628635  0.8427046   0.20756769  0.07784496]\n",
      " [ 0.8001244  -0.37655917  0.2554084  -0.39037883  0.01936671]]\n"
     ]
    }
   ],
   "source": [
    "import numpy as np\n",
    "\n",
    "arry = np.array([[1, 2, 0, 0, 1], [1, 2, 1, 1, 3],\n",
    "                [1, 4, 2, 0, 1], [1, 3, 2, 0, 1]],dtype=np.float32)\n",
    "  \n",
    "print(\"Original array:\")\n",
    "print(arry)\n",
    "  \n",
    "U, S, V = np.linalg.svd(arry, full_matrices=False)\n",
    "  \n",
    "print(\"\\nFactor of the given array  by Singular Value Decomposition:\")\n",
    "print(\"\\nU=\", U, \"\\n\\nS=\", S, \"\\n\\nV=\", V)"
   ]
  },
  {
   "cell_type": "markdown",
   "id": "bdd2f0d5",
   "metadata": {},
   "source": [
    "### 3. Write a Python program to compute the determinant of an array"
   ]
  },
  {
   "cell_type": "code",
   "execution_count": 20,
   "id": "3b32eb0f",
   "metadata": {},
   "outputs": [
    {
     "name": "stdout",
     "output_type": "stream",
     "text": [
      "Original array:\n",
      "[[1 2]\n",
      " [3 4]]\n",
      "Determinant\n",
      "-2.0000000000000004\n"
     ]
    }
   ],
   "source": [
    "import numpy as np\n",
    "arry = np.array([[ 1, 2], [3, 4]])\n",
    "\n",
    "arry = np.array([[1,2],[3,4]])\n",
    "print(\"Original array:\")\n",
    "print(arry)\n",
    "result =  np.linalg.det(arry)\n",
    "print(\"Determinant\")\n",
    "print(result)"
   ]
  }
 ],
 "metadata": {
  "kernelspec": {
   "display_name": "Python 3 (ipykernel)",
   "language": "python",
   "name": "python3"
  },
  "language_info": {
   "codemirror_mode": {
    "name": "ipython",
    "version": 3
   },
   "file_extension": ".py",
   "mimetype": "text/x-python",
   "name": "python",
   "nbconvert_exporter": "python",
   "pygments_lexer": "ipython3",
   "version": "3.9.13"
  }
 },
 "nbformat": 4,
 "nbformat_minor": 5
}
